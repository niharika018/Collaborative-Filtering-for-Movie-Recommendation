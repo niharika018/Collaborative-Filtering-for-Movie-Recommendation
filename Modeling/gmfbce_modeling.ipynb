{
 "cells": [
  {
   "cell_type": "code",
   "execution_count": 8,
   "metadata": {},
   "outputs": [
    {
     "name": "stdout",
     "output_type": "stream",
     "text": [
      "device='cuda'\n"
     ]
    }
   ],
   "source": [
    "import numpy as np\n",
    "import random\n",
    "import torch\n",
    "from src.dataloaders import Dataset100k\n",
    "from src.models import GMFBCEModel\n",
    "from src.trainer import Trainer\n",
    "from src.metrics import hitratio, ndcg\n",
    "\n",
    "np.random.seed(42)\n",
    "random.seed(42)\n",
    "torch.manual_seed(42)\n",
    "\n",
    "device = \"cuda\" if torch.cuda.is_available() else \"cpu\"\n",
    "# device = 'cpu'\n",
    "print(f\"{device=}\")"
   ]
  },
  {
   "cell_type": "code",
   "execution_count": 9,
   "metadata": {},
   "outputs": [
    {
     "name": "stdout",
     "output_type": "stream",
     "text": [
      "dataset.train_size=198114, dataset.test_size=943\n"
     ]
    }
   ],
   "source": [
    "class config:\n",
    "    data_dir = \"ml-100k\"\n",
    "    epochs = 50\n",
    "    batch_size = 2048\n",
    "    dim = 16\n",
    "    lr = 0.001\n",
    "\n",
    "\n",
    "dataset = Dataset100k(config.data_dir)\n",
    "dataset.gen_adjacency()\n",
    "dataset.make_train_test()\n",
    "print(f\"{dataset.train_size=}, {dataset.test_size=}\")\n",
    "\n",
    "metrics = {\n",
    "    \"HR@1\": (hitratio, {\"top_n\": 1}),\n",
    "    \"HR@5\": (hitratio, {\"top_n\": 5}),\n",
    "    \"HR@10\": (hitratio, {\"top_n\": 10}),\n",
    "    \"NDCG@1\": (ndcg, {\"top_n\": 1}),\n",
    "    \"NDCG@5\": (ndcg, {\"top_n\": 5}),\n",
    "    \"NDCG@10\": (ndcg, {\"top_n\": 10}),\n",
    "}"
   ]
  },
  {
   "cell_type": "code",
   "execution_count": 10,
   "metadata": {},
   "outputs": [],
   "source": [
    "model = GMFBCEModel(dataset.user_count, dataset.item_count, embed_size=config.dim)\n",
    "\n",
    "optimizer = torch.optim.Adam(model.parameters(), lr=config.lr)\n",
    "\n",
    "trainer = Trainer(\n",
    "    dataset,\n",
    "    model,\n",
    "    optimizer,\n",
    "    metrics,\n",
    "    epochs=config.epochs,\n",
    "    batch_size=config.batch_size,\n",
    "    device=device,\n",
    ")"
   ]
  },
  {
   "cell_type": "code",
   "execution_count": 11,
   "metadata": {},
   "outputs": [
    {
     "name": "stderr",
     "output_type": "stream",
     "text": [
      "                                                                   \r"
     ]
    },
    {
     "name": "stdout",
     "output_type": "stream",
     "text": [
      "Epoch 0: Avg Loss/Batch 0.693109            \n"
     ]
    },
    {
     "name": "stderr",
     "output_type": "stream",
     "text": [
      "                                                   \r"
     ]
    },
    {
     "name": "stdout",
     "output_type": "stream",
     "text": [
      "HR@1: 0.14422057264050903\n",
      "HR@5: 0.3616118769883351\n",
      "HR@10: 0.5344644750795334\n",
      "NDCG@1: 0.14422057264050903\n",
      "NDCG@5: 0.25501661702803474\n",
      "NDCG@10: 0.310695052412515\n"
     ]
    },
    {
     "name": "stderr",
     "output_type": "stream",
     "text": [
      "                                                                   \r"
     ]
    },
    {
     "name": "stdout",
     "output_type": "stream",
     "text": [
      "Epoch 1: Avg Loss/Batch 0.682623            \n"
     ]
    },
    {
     "name": "stderr",
     "output_type": "stream",
     "text": [
      "                                                   \r"
     ]
    },
    {
     "name": "stdout",
     "output_type": "stream",
     "text": [
      "HR@1: 0.1420996818663839\n",
      "HR@5: 0.34676564156945916\n",
      "HR@10: 0.5217391304347826\n",
      "NDCG@1: 0.1420996818663839\n",
      "NDCG@5: 0.2471404020658947\n",
      "NDCG@10: 0.3036570128965668\n"
     ]
    },
    {
     "name": "stderr",
     "output_type": "stream",
     "text": [
      "                                                                   \r"
     ]
    },
    {
     "name": "stdout",
     "output_type": "stream",
     "text": [
      "Epoch 2: Avg Loss/Batch 0.610052            \n"
     ]
    },
    {
     "name": "stderr",
     "output_type": "stream",
     "text": [
      "                                                   \r"
     ]
    },
    {
     "name": "stdout",
     "output_type": "stream",
     "text": [
      "HR@1: 0.14316012725344646\n",
      "HR@5: 0.35100742311770944\n",
      "HR@10: 0.5227995758218452\n",
      "NDCG@1: 0.14316012725344646\n",
      "NDCG@5: 0.24890456367868136\n",
      "NDCG@10: 0.304358040166351\n"
     ]
    },
    {
     "name": "stderr",
     "output_type": "stream",
     "text": [
      "                                                                   \r"
     ]
    },
    {
     "name": "stdout",
     "output_type": "stream",
     "text": [
      "Epoch 3: Avg Loss/Batch 0.516167            \n"
     ]
    },
    {
     "name": "stderr",
     "output_type": "stream",
     "text": [
      "                                                   \r"
     ]
    },
    {
     "name": "stdout",
     "output_type": "stream",
     "text": [
      "HR@1: 0.14952279957582185\n",
      "HR@5: 0.3616118769883351\n",
      "HR@10: 0.5270413573700954\n",
      "NDCG@1: 0.14952279957582185\n",
      "NDCG@5: 0.2556252778109433\n",
      "NDCG@10: 0.30885253238340366\n"
     ]
    },
    {
     "name": "stderr",
     "output_type": "stream",
     "text": [
      "                                                                   \r"
     ]
    },
    {
     "name": "stdout",
     "output_type": "stream",
     "text": [
      "Epoch 4: Avg Loss/Batch 0.480456            \n"
     ]
    },
    {
     "name": "stderr",
     "output_type": "stream",
     "text": [
      "                                                   \r"
     ]
    },
    {
     "name": "stdout",
     "output_type": "stream",
     "text": [
      "HR@1: 0.14846235418875928\n",
      "HR@5: 0.36585365853658536\n",
      "HR@10: 0.5270413573700954\n",
      "NDCG@1: 0.14846235418875928\n",
      "NDCG@5: 0.256941322659347\n",
      "NDCG@10: 0.3089040957582971\n"
     ]
    },
    {
     "name": "stderr",
     "output_type": "stream",
     "text": [
      "                                                                   \r"
     ]
    },
    {
     "name": "stdout",
     "output_type": "stream",
     "text": [
      "Epoch 5: Avg Loss/Batch 0.471106            \n"
     ]
    },
    {
     "name": "stderr",
     "output_type": "stream",
     "text": [
      "                                                   \r"
     ]
    },
    {
     "name": "stdout",
     "output_type": "stream",
     "text": [
      "HR@1: 0.1474019088016967\n",
      "HR@5: 0.37009544008483564\n",
      "HR@10: 0.5312831389183457\n",
      "NDCG@1: 0.1474019088016967\n",
      "NDCG@5: 0.25826497687290084\n",
      "NDCG@10: 0.3099889389155207\n"
     ]
    },
    {
     "name": "stderr",
     "output_type": "stream",
     "text": [
      "                                                                   \r"
     ]
    },
    {
     "name": "stdout",
     "output_type": "stream",
     "text": [
      "Epoch 6: Avg Loss/Batch 0.467216            \n"
     ]
    },
    {
     "name": "stderr",
     "output_type": "stream",
     "text": [
      "                                                   \r"
     ]
    },
    {
     "name": "stdout",
     "output_type": "stream",
     "text": [
      "HR@1: 0.14528101802757157\n",
      "HR@5: 0.37645811240721105\n",
      "HR@10: 0.5323435843054083\n",
      "NDCG@1: 0.14528101802757157\n",
      "NDCG@5: 0.26070945381779653\n",
      "NDCG@10: 0.31067984389349007\n"
     ]
    },
    {
     "name": "stderr",
     "output_type": "stream",
     "text": [
      "                                                                   \r"
     ]
    },
    {
     "name": "stdout",
     "output_type": "stream",
     "text": [
      "Epoch 7: Avg Loss/Batch 0.464806            \n"
     ]
    },
    {
     "name": "stderr",
     "output_type": "stream",
     "text": [
      "                                                   \r"
     ]
    },
    {
     "name": "stdout",
     "output_type": "stream",
     "text": [
      "HR@1: 0.14316012725344646\n",
      "HR@5: 0.3753976670201485\n",
      "HR@10: 0.5355249204665959\n",
      "NDCG@1: 0.14316012725344646\n",
      "NDCG@5: 0.26011639195537417\n",
      "NDCG@10: 0.31153398471763893\n"
     ]
    },
    {
     "name": "stderr",
     "output_type": "stream",
     "text": [
      "                                                                   \r"
     ]
    },
    {
     "name": "stdout",
     "output_type": "stream",
     "text": [
      "Epoch 8: Avg Loss/Batch 0.462948            \n"
     ]
    },
    {
     "name": "stderr",
     "output_type": "stream",
     "text": [
      "                                                   \r"
     ]
    },
    {
     "name": "stdout",
     "output_type": "stream",
     "text": [
      "HR@1: 0.14316012725344646\n",
      "HR@5: 0.3796394485683987\n",
      "HR@10: 0.5344644750795334\n",
      "NDCG@1: 0.14316012725344646\n",
      "NDCG@5: 0.26210911271566345\n",
      "NDCG@10: 0.31189753876551624\n"
     ]
    },
    {
     "name": "stderr",
     "output_type": "stream",
     "text": [
      "                                                                   \r"
     ]
    },
    {
     "name": "stdout",
     "output_type": "stream",
     "text": [
      "Epoch 9: Avg Loss/Batch 0.461275            \n"
     ]
    },
    {
     "name": "stderr",
     "output_type": "stream",
     "text": [
      "                                                   \r"
     ]
    },
    {
     "name": "stdout",
     "output_type": "stream",
     "text": [
      "HR@1: 0.14316012725344646\n",
      "HR@5: 0.3806998939554613\n",
      "HR@10: 0.5365853658536586\n",
      "NDCG@1: 0.14316012725344646\n",
      "NDCG@5: 0.26306405056401555\n",
      "NDCG@10: 0.3132913180165578\n"
     ]
    },
    {
     "name": "stderr",
     "output_type": "stream",
     "text": [
      "                                                                    \r"
     ]
    },
    {
     "name": "stdout",
     "output_type": "stream",
     "text": [
      "Epoch 10: Avg Loss/Batch 0.459571            \n"
     ]
    },
    {
     "name": "stderr",
     "output_type": "stream",
     "text": [
      "                                                   \r"
     ]
    },
    {
     "name": "stdout",
     "output_type": "stream",
     "text": [
      "HR@1: 0.14634146341463414\n",
      "HR@5: 0.38494167550371156\n",
      "HR@10: 0.5440084835630965\n",
      "NDCG@1: 0.14634146341463414\n",
      "NDCG@5: 0.2666914218551599\n",
      "NDCG@10: 0.3180060101619444\n"
     ]
    },
    {
     "name": "stderr",
     "output_type": "stream",
     "text": [
      "                                                                    \r"
     ]
    },
    {
     "name": "stdout",
     "output_type": "stream",
     "text": [
      "Epoch 11: Avg Loss/Batch 0.457664            \n"
     ]
    },
    {
     "name": "stderr",
     "output_type": "stream",
     "text": [
      "                                                   \r"
     ]
    },
    {
     "name": "stdout",
     "output_type": "stream",
     "text": [
      "HR@1: 0.1474019088016967\n",
      "HR@5: 0.3860021208907741\n",
      "HR@10: 0.5524920466595971\n",
      "NDCG@1: 0.1474019088016967\n",
      "NDCG@5: 0.267724826212437\n",
      "NDCG@10: 0.3215390100568849\n"
     ]
    },
    {
     "name": "stderr",
     "output_type": "stream",
     "text": [
      "                                                                    \r"
     ]
    },
    {
     "name": "stdout",
     "output_type": "stream",
     "text": [
      "Epoch 12: Avg Loss/Batch 0.455391            \n"
     ]
    },
    {
     "name": "stderr",
     "output_type": "stream",
     "text": [
      "                                                   \r"
     ]
    },
    {
     "name": "stdout",
     "output_type": "stream",
     "text": [
      "HR@1: 0.15058324496288442\n",
      "HR@5: 0.39660657476139977\n",
      "HR@10: 0.5609756097560976\n",
      "NDCG@1: 0.15058324496288442\n",
      "NDCG@5: 0.2740535879902603\n",
      "NDCG@10: 0.3270559962175553\n"
     ]
    },
    {
     "name": "stderr",
     "output_type": "stream",
     "text": [
      "                                                                    \r"
     ]
    },
    {
     "name": "stdout",
     "output_type": "stream",
     "text": [
      "Epoch 13: Avg Loss/Batch 0.452587            \n"
     ]
    },
    {
     "name": "stderr",
     "output_type": "stream",
     "text": [
      "                                                   \r"
     ]
    },
    {
     "name": "stdout",
     "output_type": "stream",
     "text": [
      "HR@1: 0.15906680805938495\n",
      "HR@5: 0.40402969247083775\n",
      "HR@10: 0.5705196182396607\n",
      "NDCG@1: 0.15906680805938495\n",
      "NDCG@5: 0.28260877650046706\n",
      "NDCG@10: 0.33645833661489\n"
     ]
    },
    {
     "name": "stderr",
     "output_type": "stream",
     "text": [
      "                                                                    \r"
     ]
    },
    {
     "name": "stdout",
     "output_type": "stream",
     "text": [
      "Epoch 14: Avg Loss/Batch 0.449097            \n"
     ]
    },
    {
     "name": "stderr",
     "output_type": "stream",
     "text": [
      "                                                   \r"
     ]
    },
    {
     "name": "stdout",
     "output_type": "stream",
     "text": [
      "HR@1: 0.16542948038176034\n",
      "HR@5: 0.4135737009544008\n",
      "HR@10: 0.5811240721102863\n",
      "NDCG@1: 0.16542948038176034\n",
      "NDCG@5: 0.2902114897028803\n",
      "NDCG@10: 0.3442653942476162\n"
     ]
    },
    {
     "name": "stderr",
     "output_type": "stream",
     "text": [
      "                                                                    \r"
     ]
    },
    {
     "name": "stdout",
     "output_type": "stream",
     "text": [
      "Epoch 15: Avg Loss/Batch 0.444815            \n"
     ]
    },
    {
     "name": "stderr",
     "output_type": "stream",
     "text": [
      "                                                   \r"
     ]
    },
    {
     "name": "stdout",
     "output_type": "stream",
     "text": [
      "HR@1: 0.18027571580063625\n",
      "HR@5: 0.42735949098621423\n",
      "HR@10: 0.5938494167550371\n",
      "NDCG@1: 0.18027571580063625\n",
      "NDCG@5: 0.3035022809502095\n",
      "NDCG@10: 0.35706960120235637\n"
     ]
    },
    {
     "name": "stderr",
     "output_type": "stream",
     "text": [
      "                                                                    \r"
     ]
    },
    {
     "name": "stdout",
     "output_type": "stream",
     "text": [
      "Epoch 16: Avg Loss/Batch 0.439749            \n"
     ]
    },
    {
     "name": "stderr",
     "output_type": "stream",
     "text": [
      "                                                   \r"
     ]
    },
    {
     "name": "stdout",
     "output_type": "stream",
     "text": [
      "HR@1: 0.1855779427359491\n",
      "HR@5: 0.44220572640509015\n",
      "HR@10: 0.616118769883351\n",
      "NDCG@1: 0.1855779427359491\n",
      "NDCG@5: 0.31505483157396863\n",
      "NDCG@10: 0.3707867506755771\n"
     ]
    },
    {
     "name": "stderr",
     "output_type": "stream",
     "text": [
      "                                                                    \r"
     ]
    },
    {
     "name": "stdout",
     "output_type": "stream",
     "text": [
      "Epoch 17: Avg Loss/Batch 0.434054            \n"
     ]
    },
    {
     "name": "stderr",
     "output_type": "stream",
     "text": [
      "                                                   \r"
     ]
    },
    {
     "name": "stdout",
     "output_type": "stream",
     "text": [
      "HR@1: 0.18981972428419935\n",
      "HR@5: 0.45493107104984093\n",
      "HR@10: 0.6288441145281018\n",
      "NDCG@1: 0.18981972428419935\n",
      "NDCG@5: 0.32587854095631913\n",
      "NDCG@10: 0.3820901829367425\n"
     ]
    },
    {
     "name": "stderr",
     "output_type": "stream",
     "text": [
      "                                                                    \r"
     ]
    },
    {
     "name": "stdout",
     "output_type": "stream",
     "text": [
      "Epoch 18: Avg Loss/Batch 0.428003            \n"
     ]
    },
    {
     "name": "stderr",
     "output_type": "stream",
     "text": [
      "                                                   \r"
     ]
    },
    {
     "name": "stdout",
     "output_type": "stream",
     "text": [
      "HR@1: 0.19406150583244963\n",
      "HR@5: 0.47720042417815484\n",
      "HR@10: 0.6489925768822906\n",
      "NDCG@1: 0.19406150583244963\n",
      "NDCG@5: 0.34095678736071444\n",
      "NDCG@10: 0.39615397466132024\n"
     ]
    },
    {
     "name": "stderr",
     "output_type": "stream",
     "text": [
      "                                                                    \r"
     ]
    },
    {
     "name": "stdout",
     "output_type": "stream",
     "text": [
      "Epoch 19: Avg Loss/Batch 0.421883            \n"
     ]
    },
    {
     "name": "stderr",
     "output_type": "stream",
     "text": [
      "                                                   \r"
     ]
    },
    {
     "name": "stdout",
     "output_type": "stream",
     "text": [
      "HR@1: 0.19936373276776245\n",
      "HR@5: 0.48250265111346763\n",
      "HR@10: 0.662778366914104\n",
      "NDCG@1: 0.19936373276776245\n",
      "NDCG@5: 0.34707187819663216\n",
      "NDCG@10: 0.4053031135665134\n"
     ]
    },
    {
     "name": "stderr",
     "output_type": "stream",
     "text": [
      "                                                                    \r"
     ]
    },
    {
     "name": "stdout",
     "output_type": "stream",
     "text": [
      "Epoch 20: Avg Loss/Batch 0.415888            \n"
     ]
    },
    {
     "name": "stderr",
     "output_type": "stream",
     "text": [
      "                                                   \r"
     ]
    },
    {
     "name": "stdout",
     "output_type": "stream",
     "text": [
      "HR@1: 0.2067868504772004\n",
      "HR@5: 0.503711558854719\n",
      "HR@10: 0.6733828207847296\n",
      "NDCG@1: 0.2067868504772004\n",
      "NDCG@5: 0.359359369874741\n",
      "NDCG@10: 0.4140890767180342\n"
     ]
    },
    {
     "name": "stderr",
     "output_type": "stream",
     "text": [
      "                                                                    \r"
     ]
    },
    {
     "name": "stdout",
     "output_type": "stream",
     "text": [
      "Epoch 21: Avg Loss/Batch 0.410071            \n"
     ]
    },
    {
     "name": "stderr",
     "output_type": "stream",
     "text": [
      "                                                   \r"
     ]
    },
    {
     "name": "stdout",
     "output_type": "stream",
     "text": [
      "HR@1: 0.21527041357370094\n",
      "HR@5: 0.5185577942735949\n",
      "HR@10: 0.6850477200424178\n",
      "NDCG@1: 0.21527041357370094\n",
      "NDCG@5: 0.36962195365413075\n",
      "NDCG@10: 0.4229981348913664\n"
     ]
    },
    {
     "name": "stderr",
     "output_type": "stream",
     "text": [
      "                                                                    \r"
     ]
    },
    {
     "name": "stdout",
     "output_type": "stream",
     "text": [
      "Epoch 22: Avg Loss/Batch 0.404387            \n"
     ]
    },
    {
     "name": "stderr",
     "output_type": "stream",
     "text": [
      "                                                   \r"
     ]
    },
    {
     "name": "stdout",
     "output_type": "stream",
     "text": [
      "HR@1: 0.21951219512195122\n",
      "HR@5: 0.5270413573700954\n",
      "HR@10: 0.6998939554612937\n",
      "NDCG@1: 0.21951219512195122\n",
      "NDCG@5: 0.3768346305162065\n",
      "NDCG@10: 0.432444315907094\n"
     ]
    },
    {
     "name": "stderr",
     "output_type": "stream",
     "text": [
      "                                                                    \r"
     ]
    },
    {
     "name": "stdout",
     "output_type": "stream",
     "text": [
      "Epoch 23: Avg Loss/Batch 0.398784            \n"
     ]
    },
    {
     "name": "stderr",
     "output_type": "stream",
     "text": [
      "                                                   \r"
     ]
    },
    {
     "name": "stdout",
     "output_type": "stream",
     "text": [
      "HR@1: 0.2258748674443266\n",
      "HR@5: 0.5408271474019088\n",
      "HR@10: 0.7020148462354189\n",
      "NDCG@1: 0.2258748674443266\n",
      "NDCG@5: 0.38542484889558737\n",
      "NDCG@10: 0.4374505883995888\n"
     ]
    },
    {
     "name": "stderr",
     "output_type": "stream",
     "text": [
      "                                                                    \r"
     ]
    },
    {
     "name": "stdout",
     "output_type": "stream",
     "text": [
      "Epoch 24: Avg Loss/Batch 0.393279            \n"
     ]
    },
    {
     "name": "stderr",
     "output_type": "stream",
     "text": [
      "                                                   \r"
     ]
    },
    {
     "name": "stdout",
     "output_type": "stream",
     "text": [
      "HR@1: 0.22905620360551432\n",
      "HR@5: 0.542948038176034\n",
      "HR@10: 0.7051961823966065\n",
      "NDCG@1: 0.22905620360551432\n",
      "NDCG@5: 0.38910060961120085\n",
      "NDCG@10: 0.4416004268649068\n"
     ]
    },
    {
     "name": "stderr",
     "output_type": "stream",
     "text": [
      "                                                                    \r"
     ]
    },
    {
     "name": "stdout",
     "output_type": "stream",
     "text": [
      "Epoch 25: Avg Loss/Batch 0.387989            \n"
     ]
    },
    {
     "name": "stderr",
     "output_type": "stream",
     "text": [
      "                                                   \r"
     ]
    },
    {
     "name": "stdout",
     "output_type": "stream",
     "text": [
      "HR@1: 0.23753976670201485\n",
      "HR@5: 0.5524920466595971\n",
      "HR@10: 0.7094379639448568\n",
      "NDCG@1: 0.23753976670201485\n",
      "NDCG@5: 0.39779272524456344\n",
      "NDCG@10: 0.44870295310652447\n"
     ]
    },
    {
     "name": "stderr",
     "output_type": "stream",
     "text": [
      "                                                                    \r"
     ]
    },
    {
     "name": "stdout",
     "output_type": "stream",
     "text": [
      "Epoch 26: Avg Loss/Batch 0.383080            \n"
     ]
    },
    {
     "name": "stderr",
     "output_type": "stream",
     "text": [
      "                                                   \r"
     ]
    },
    {
     "name": "stdout",
     "output_type": "stream",
     "text": [
      "HR@1: 0.24284199363732767\n",
      "HR@5: 0.5652173913043478\n",
      "HR@10: 0.7126193001060446\n",
      "NDCG@1: 0.24284199363732767\n",
      "NDCG@5: 0.40675185474496595\n",
      "NDCG@10: 0.45454240999310846\n"
     ]
    },
    {
     "name": "stderr",
     "output_type": "stream",
     "text": [
      "                                                                    \r"
     ]
    },
    {
     "name": "stdout",
     "output_type": "stream",
     "text": [
      "Epoch 27: Avg Loss/Batch 0.378682            \n"
     ]
    },
    {
     "name": "stderr",
     "output_type": "stream",
     "text": [
      "                                                   \r"
     ]
    },
    {
     "name": "stdout",
     "output_type": "stream",
     "text": [
      "HR@1: 0.24602332979851538\n",
      "HR@5: 0.5737009544008483\n",
      "HR@10: 0.7147401908801697\n",
      "NDCG@1: 0.24602332979851538\n",
      "NDCG@5: 0.4123060424373434\n",
      "NDCG@10: 0.4579867567471363\n"
     ]
    },
    {
     "name": "stderr",
     "output_type": "stream",
     "text": [
      "                                                                    \r"
     ]
    },
    {
     "name": "stdout",
     "output_type": "stream",
     "text": [
      "Epoch 28: Avg Loss/Batch 0.374825            \n"
     ]
    },
    {
     "name": "stderr",
     "output_type": "stream",
     "text": [
      "                                                   \r"
     ]
    },
    {
     "name": "stdout",
     "output_type": "stream",
     "text": [
      "HR@1: 0.2492046659597031\n",
      "HR@5: 0.574761399787911\n",
      "HR@10: 0.7179215270413574\n",
      "NDCG@1: 0.2492046659597031\n",
      "NDCG@5: 0.41521524632644735\n",
      "NDCG@10: 0.4615052962204848\n"
     ]
    },
    {
     "name": "stderr",
     "output_type": "stream",
     "text": [
      "                                                                    \r"
     ]
    },
    {
     "name": "stdout",
     "output_type": "stream",
     "text": [
      "Epoch 29: Avg Loss/Batch 0.371436            \n"
     ]
    },
    {
     "name": "stderr",
     "output_type": "stream",
     "text": [
      "                                                   \r"
     ]
    },
    {
     "name": "stdout",
     "output_type": "stream",
     "text": [
      "HR@1: 0.2513255567338282\n",
      "HR@5: 0.574761399787911\n",
      "HR@10: 0.7168610816542949\n",
      "NDCG@1: 0.2513255567338282\n",
      "NDCG@5: 0.41700628406464135\n",
      "NDCG@10: 0.46303326789315896\n"
     ]
    },
    {
     "name": "stderr",
     "output_type": "stream",
     "text": [
      "                                                                    \r"
     ]
    },
    {
     "name": "stdout",
     "output_type": "stream",
     "text": [
      "Epoch 30: Avg Loss/Batch 0.368382            \n"
     ]
    },
    {
     "name": "stderr",
     "output_type": "stream",
     "text": [
      "                                                   \r"
     ]
    },
    {
     "name": "stdout",
     "output_type": "stream",
     "text": [
      "HR@1: 0.25344644750795337\n",
      "HR@5: 0.5832449628844114\n",
      "HR@10: 0.721102863202545\n",
      "NDCG@1: 0.25344644750795337\n",
      "NDCG@5: 0.4213768091408391\n",
      "NDCG@10: 0.46601871554182916\n"
     ]
    },
    {
     "name": "stderr",
     "output_type": "stream",
     "text": [
      "                                                                    \r"
     ]
    },
    {
     "name": "stdout",
     "output_type": "stream",
     "text": [
      "Epoch 31: Avg Loss/Batch 0.365506            \n"
     ]
    },
    {
     "name": "stderr",
     "output_type": "stream",
     "text": [
      "                                                   \r"
     ]
    },
    {
     "name": "stdout",
     "output_type": "stream",
     "text": [
      "HR@1: 0.25556733828207845\n",
      "HR@5: 0.5896076352067868\n",
      "HR@10: 0.7264050901378579\n",
      "NDCG@1: 0.25556733828207845\n",
      "NDCG@5: 0.4250733148855828\n",
      "NDCG@10: 0.469122381947934\n"
     ]
    },
    {
     "name": "stderr",
     "output_type": "stream",
     "text": [
      "                                                                    \r"
     ]
    },
    {
     "name": "stdout",
     "output_type": "stream",
     "text": [
      "Epoch 32: Avg Loss/Batch 0.362669            \n"
     ]
    },
    {
     "name": "stderr",
     "output_type": "stream",
     "text": [
      "                                                   \r"
     ]
    },
    {
     "name": "stdout",
     "output_type": "stream",
     "text": [
      "HR@1: 0.25344644750795337\n",
      "HR@5: 0.5896076352067868\n",
      "HR@10: 0.735949098621421\n",
      "NDCG@1: 0.25344644750795337\n",
      "NDCG@5: 0.4254906147151265\n",
      "NDCG@10: 0.4723463172096978\n"
     ]
    },
    {
     "name": "stderr",
     "output_type": "stream",
     "text": [
      "                                                                    \r"
     ]
    },
    {
     "name": "stdout",
     "output_type": "stream",
     "text": [
      "Epoch 33: Avg Loss/Batch 0.359752            \n"
     ]
    },
    {
     "name": "stderr",
     "output_type": "stream",
     "text": [
      "                                                   \r"
     ]
    },
    {
     "name": "stdout",
     "output_type": "stream",
     "text": [
      "HR@1: 0.256627783669141\n",
      "HR@5: 0.5896076352067868\n",
      "HR@10: 0.7401908801696713\n",
      "NDCG@1: 0.256627783669141\n",
      "NDCG@5: 0.42716298011513537\n",
      "NDCG@10: 0.4753915198954211\n"
     ]
    },
    {
     "name": "stderr",
     "output_type": "stream",
     "text": [
      "                                                                    \r"
     ]
    },
    {
     "name": "stdout",
     "output_type": "stream",
     "text": [
      "Epoch 34: Avg Loss/Batch 0.356670            \n"
     ]
    },
    {
     "name": "stderr",
     "output_type": "stream",
     "text": [
      "                                                   \r"
     ]
    },
    {
     "name": "stdout",
     "output_type": "stream",
     "text": [
      "HR@1: 0.25344644750795337\n",
      "HR@5: 0.5896076352067868\n",
      "HR@10: 0.7391304347826086\n",
      "NDCG@1: 0.25344644750795337\n",
      "NDCG@5: 0.4266718147907475\n",
      "NDCG@10: 0.47471710201935957\n"
     ]
    },
    {
     "name": "stderr",
     "output_type": "stream",
     "text": [
      "                                                                    \r"
     ]
    },
    {
     "name": "stdout",
     "output_type": "stream",
     "text": [
      "Epoch 35: Avg Loss/Batch 0.353367            \n"
     ]
    },
    {
     "name": "stderr",
     "output_type": "stream",
     "text": [
      "                                                   \r"
     ]
    },
    {
     "name": "stdout",
     "output_type": "stream",
     "text": [
      "HR@1: 0.25344644750795337\n",
      "HR@5: 0.5938494167550371\n",
      "HR@10: 0.7391304347826086\n",
      "NDCG@1: 0.25344644750795337\n",
      "NDCG@5: 0.4287380492752432\n",
      "NDCG@10: 0.47558875362681\n"
     ]
    },
    {
     "name": "stderr",
     "output_type": "stream",
     "text": [
      "                                                                    \r"
     ]
    },
    {
     "name": "stdout",
     "output_type": "stream",
     "text": [
      "Epoch 36: Avg Loss/Batch 0.349818            \n"
     ]
    },
    {
     "name": "stderr",
     "output_type": "stream",
     "text": [
      "                                                   \r"
     ]
    },
    {
     "name": "stdout",
     "output_type": "stream",
     "text": [
      "HR@1: 0.25874867444326616\n",
      "HR@5: 0.5980911983032874\n",
      "HR@10: 0.7380699893955461\n",
      "NDCG@1: 0.25874867444326616\n",
      "NDCG@5: 0.4332411236358836\n",
      "NDCG@10: 0.47844473487748024\n"
     ]
    },
    {
     "name": "stderr",
     "output_type": "stream",
     "text": [
      "                                                                    \r"
     ]
    },
    {
     "name": "stdout",
     "output_type": "stream",
     "text": [
      "Epoch 37: Avg Loss/Batch 0.346027            \n"
     ]
    },
    {
     "name": "stderr",
     "output_type": "stream",
     "text": [
      "                                                   \r"
     ]
    },
    {
     "name": "stdout",
     "output_type": "stream",
     "text": [
      "HR@1: 0.2598091198303287\n",
      "HR@5: 0.5959703075291622\n",
      "HR@10: 0.7423117709437964\n",
      "NDCG@1: 0.2598091198303287\n",
      "NDCG@5: 0.43373803843446884\n",
      "NDCG@10: 0.48121917082544907\n"
     ]
    },
    {
     "name": "stderr",
     "output_type": "stream",
     "text": [
      "                                                                    \r"
     ]
    },
    {
     "name": "stdout",
     "output_type": "stream",
     "text": [
      "Epoch 38: Avg Loss/Batch 0.342028            \n"
     ]
    },
    {
     "name": "stderr",
     "output_type": "stream",
     "text": [
      "                                                   \r"
     ]
    },
    {
     "name": "stdout",
     "output_type": "stream",
     "text": [
      "HR@1: 0.25874867444326616\n",
      "HR@5: 0.5959703075291622\n",
      "HR@10: 0.7465535524920467\n",
      "NDCG@1: 0.25874867444326616\n",
      "NDCG@5: 0.4335213023023982\n",
      "NDCG@10: 0.48240269304589295\n"
     ]
    },
    {
     "name": "stderr",
     "output_type": "stream",
     "text": [
      "                                                                    \r"
     ]
    },
    {
     "name": "stdout",
     "output_type": "stream",
     "text": [
      "Epoch 39: Avg Loss/Batch 0.337877            \n"
     ]
    },
    {
     "name": "stderr",
     "output_type": "stream",
     "text": [
      "                                                   \r"
     ]
    },
    {
     "name": "stdout",
     "output_type": "stream",
     "text": [
      "HR@1: 0.264050901378579\n",
      "HR@5: 0.6002120890774125\n",
      "HR@10: 0.7465535524920467\n",
      "NDCG@1: 0.264050901378579\n",
      "NDCG@5: 0.4369614403158695\n",
      "NDCG@10: 0.4845571466899414\n"
     ]
    },
    {
     "name": "stderr",
     "output_type": "stream",
     "text": [
      "                                                                    \r"
     ]
    },
    {
     "name": "stdout",
     "output_type": "stream",
     "text": [
      "Epoch 40: Avg Loss/Batch 0.333648            \n"
     ]
    },
    {
     "name": "stderr",
     "output_type": "stream",
     "text": [
      "                                                   \r"
     ]
    },
    {
     "name": "stdout",
     "output_type": "stream",
     "text": [
      "HR@1: 0.264050901378579\n",
      "HR@5: 0.5980911983032874\n",
      "HR@10: 0.7465535524920467\n",
      "NDCG@1: 0.264050901378579\n",
      "NDCG@5: 0.43732695500607577\n",
      "NDCG@10: 0.4858448942230303\n"
     ]
    },
    {
     "name": "stderr",
     "output_type": "stream",
     "text": [
      "                                                                    \r"
     ]
    },
    {
     "name": "stdout",
     "output_type": "stream",
     "text": [
      "Epoch 41: Avg Loss/Batch 0.329418            \n"
     ]
    },
    {
     "name": "stderr",
     "output_type": "stream",
     "text": [
      "                                                   \r"
     ]
    },
    {
     "name": "stdout",
     "output_type": "stream",
     "text": [
      "HR@1: 0.2651113467656416\n",
      "HR@5: 0.6002120890774125\n",
      "HR@10: 0.7476139978791092\n",
      "NDCG@1: 0.2651113467656416\n",
      "NDCG@5: 0.43882410346776957\n",
      "NDCG@10: 0.48704945413887846\n"
     ]
    },
    {
     "name": "stderr",
     "output_type": "stream",
     "text": [
      "                                                                    \r"
     ]
    },
    {
     "name": "stdout",
     "output_type": "stream",
     "text": [
      "Epoch 42: Avg Loss/Batch 0.325251            \n"
     ]
    },
    {
     "name": "stderr",
     "output_type": "stream",
     "text": [
      "                                                   \r"
     ]
    },
    {
     "name": "stdout",
     "output_type": "stream",
     "text": [
      "HR@1: 0.2651113467656416\n",
      "HR@5: 0.6023329798515377\n",
      "HR@10: 0.7486744432661718\n",
      "NDCG@1: 0.2651113467656416\n",
      "NDCG@5: 0.4397997870611991\n",
      "NDCG@10: 0.48780603238551773\n"
     ]
    },
    {
     "name": "stderr",
     "output_type": "stream",
     "text": [
      "                                                                    \r"
     ]
    },
    {
     "name": "stdout",
     "output_type": "stream",
     "text": [
      "Epoch 43: Avg Loss/Batch 0.321188            \n"
     ]
    },
    {
     "name": "stderr",
     "output_type": "stream",
     "text": [
      "                                                   \r"
     ]
    },
    {
     "name": "stdout",
     "output_type": "stream",
     "text": [
      "HR@1: 0.2682926829268293\n",
      "HR@5: 0.6044538706256628\n",
      "HR@10: 0.7539766702014846\n",
      "NDCG@1: 0.2682926829268293\n",
      "NDCG@5: 0.4423278496360104\n",
      "NDCG@10: 0.4912491140627189\n"
     ]
    },
    {
     "name": "stderr",
     "output_type": "stream",
     "text": [
      "                                                                    \r"
     ]
    },
    {
     "name": "stdout",
     "output_type": "stream",
     "text": [
      "Epoch 44: Avg Loss/Batch 0.317245            \n"
     ]
    },
    {
     "name": "stderr",
     "output_type": "stream",
     "text": [
      "                                                   \r"
     ]
    },
    {
     "name": "stdout",
     "output_type": "stream",
     "text": [
      "HR@1: 0.26935312831389185\n",
      "HR@5: 0.6044538706256628\n",
      "HR@10: 0.7592788971367974\n",
      "NDCG@1: 0.26935312831389185\n",
      "NDCG@5: 0.4430026095337948\n",
      "NDCG@10: 0.4934538723127174\n"
     ]
    },
    {
     "name": "stderr",
     "output_type": "stream",
     "text": [
      "                                                                    \r"
     ]
    },
    {
     "name": "stdout",
     "output_type": "stream",
     "text": [
      "Epoch 45: Avg Loss/Batch 0.313420            \n"
     ]
    },
    {
     "name": "stderr",
     "output_type": "stream",
     "text": [
      "                                                   \r"
     ]
    },
    {
     "name": "stdout",
     "output_type": "stream",
     "text": [
      "HR@1: 0.2672322375397667\n",
      "HR@5: 0.6118769883351007\n",
      "HR@10: 0.7635206786850477\n",
      "NDCG@1: 0.2672322375397667\n",
      "NDCG@5: 0.4460639869799561\n",
      "NDCG@10: 0.4951391345112799\n"
     ]
    },
    {
     "name": "stderr",
     "output_type": "stream",
     "text": [
      "                                                                    \r"
     ]
    },
    {
     "name": "stdout",
     "output_type": "stream",
     "text": [
      "Epoch 46: Avg Loss/Batch 0.309704            \n"
     ]
    },
    {
     "name": "stderr",
     "output_type": "stream",
     "text": [
      "                                                   \r"
     ]
    },
    {
     "name": "stdout",
     "output_type": "stream",
     "text": [
      "HR@1: 0.2704135737009544\n",
      "HR@5: 0.616118769883351\n",
      "HR@10: 0.7667020148462355\n",
      "NDCG@1: 0.2704135737009544\n",
      "NDCG@5: 0.44873965051729153\n",
      "NDCG@10: 0.4975641822489779\n"
     ]
    },
    {
     "name": "stderr",
     "output_type": "stream",
     "text": [
      "                                                                    \r"
     ]
    },
    {
     "name": "stdout",
     "output_type": "stream",
     "text": [
      "Epoch 47: Avg Loss/Batch 0.306086            \n"
     ]
    },
    {
     "name": "stderr",
     "output_type": "stream",
     "text": [
      "                                                   \r"
     ]
    },
    {
     "name": "stdout",
     "output_type": "stream",
     "text": [
      "HR@1: 0.27465535524920465\n",
      "HR@5: 0.6139978791092259\n",
      "HR@10: 0.767762460233298\n",
      "NDCG@1: 0.27465535524920465\n",
      "NDCG@5: 0.4498930412931957\n",
      "NDCG@10: 0.49975542877040346\n"
     ]
    },
    {
     "name": "stderr",
     "output_type": "stream",
     "text": [
      "                                                                    \r"
     ]
    },
    {
     "name": "stdout",
     "output_type": "stream",
     "text": [
      "Epoch 48: Avg Loss/Batch 0.302558            \n"
     ]
    },
    {
     "name": "stderr",
     "output_type": "stream",
     "text": [
      "                                                   \r"
     ]
    },
    {
     "name": "stdout",
     "output_type": "stream",
     "text": [
      "HR@1: 0.26617179215270415\n",
      "HR@5: 0.6086956521739131\n",
      "HR@10: 0.7709437963944857\n",
      "NDCG@1: 0.26617179215270415\n",
      "NDCG@5: 0.44456131150348543\n",
      "NDCG@10: 0.497216247037698\n"
     ]
    },
    {
     "name": "stderr",
     "output_type": "stream",
     "text": [
      "                                                                    \r"
     ]
    },
    {
     "name": "stdout",
     "output_type": "stream",
     "text": [
      "Epoch 49: Avg Loss/Batch 0.299113            \n"
     ]
    },
    {
     "name": "stderr",
     "output_type": "stream",
     "text": [
      "                                                   "
     ]
    },
    {
     "name": "stdout",
     "output_type": "stream",
     "text": [
      "HR@1: 0.264050901378579\n",
      "HR@5: 0.6076352067868505\n",
      "HR@10: 0.7730646871686108\n",
      "NDCG@1: 0.264050901378579\n",
      "NDCG@5: 0.4433412765181415\n",
      "NDCG@10: 0.49699318713790863\n"
     ]
    },
    {
     "name": "stderr",
     "output_type": "stream",
     "text": [
      "\r"
     ]
    }
   ],
   "source": [
    "trainer.train(evaluate=True, verbose=True, progressbar=True)\n",
    "# trainer.test(verbose=False, pbar=False)"
   ]
  },
  {
   "cell_type": "code",
   "execution_count": 12,
   "metadata": {},
   "outputs": [
    {
     "name": "stdout",
     "output_type": "stream",
     "text": [
      "47: {'HR@1': 0.27465535524920465, 'HR@5': 0.6139978791092259, 'HR@10': 0.767762460233298, 'NDCG@1': 0.27465535524920465, 'NDCG@5': 0.4498930412931957, 'NDCG@10': 0.49975542877040346}\n"
     ]
    }
   ],
   "source": [
    "best_epoch = np.argmax([r[\"NDCG@10\"] for r in trainer.test_log])\n",
    "print(f\"{best_epoch}: {trainer.test_log[best_epoch]}\")"
   ]
  },
  {
   "cell_type": "code",
   "execution_count": 13,
   "metadata": {},
   "outputs": [],
   "source": [
    "torch.save(trainer.model.state_dict(), \"saved_models/gmfbce.pt\")\n",
    "# trainer.model.load_state_dict(torch.load(\"saved_models/gmfbce.pt\"))"
   ]
  }
 ],
 "metadata": {
  "kernelspec": {
   "display_name": "v39",
   "language": "python",
   "name": "python3"
  },
  "language_info": {
   "codemirror_mode": {
    "name": "ipython",
    "version": 3
   },
   "file_extension": ".py",
   "mimetype": "text/x-python",
   "name": "python",
   "nbconvert_exporter": "python",
   "pygments_lexer": "ipython3",
   "version": "3.9.7"
  }
 },
 "nbformat": 4,
 "nbformat_minor": 2
}
