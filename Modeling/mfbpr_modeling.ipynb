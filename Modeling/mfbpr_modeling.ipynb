{
 "cells": [
  {
   "cell_type": "code",
   "execution_count": 1,
   "metadata": {},
   "outputs": [
    {
     "name": "stdout",
     "output_type": "stream",
     "text": [
      "device='cuda'\n"
     ]
    }
   ],
   "source": [
    "import numpy as np\n",
    "import random\n",
    "import torch\n",
    "from src.dataloaders import PairwiseDataset\n",
    "from src.models import MatrixFactorizationBPRModel\n",
    "from src.trainer import Trainer\n",
    "from src.metrics import hitratio, ndcg\n",
    "\n",
    "np.random.seed(42)\n",
    "random.seed(42)\n",
    "torch.manual_seed(42)\n",
    "\n",
    "device = \"cuda\" if torch.cuda.is_available() else \"cpu\"\n",
    "# device = 'cpu'\n",
    "print(f\"{device=}\")"
   ]
  },
  {
   "cell_type": "code",
   "execution_count": 2,
   "metadata": {},
   "outputs": [
    {
     "name": "stdout",
     "output_type": "stream",
     "text": [
      "dataset.train_size=100000, dataset.test_size=943\n"
     ]
    }
   ],
   "source": [
    "class config:\n",
    "    data_dir = \"ml-100k\"\n",
    "    epochs = 100\n",
    "    batch_size = 2048\n",
    "    dim = 40\n",
    "    lr = 0.1\n",
    "    momentum = 0.6\n",
    "    weight_decay = 0.01\n",
    "\n",
    "\n",
    "dataset = PairwiseDataset(config.data_dir)\n",
    "dataset.gen_adjacency()\n",
    "dataset.make_train_test()\n",
    "print(f\"{dataset.train_size=}, {dataset.test_size=}\")\n",
    "\n",
    "metrics = {\n",
    "    \"HR@1\": (hitratio, {\"top_n\": 1}),\n",
    "    \"HR@5\": (hitratio, {\"top_n\": 5}),\n",
    "    \"HR@10\": (hitratio, {\"top_n\": 10}),\n",
    "    \"NDCG@1\": (ndcg, {\"top_n\": 1}),\n",
    "    \"NDCG@5\": (ndcg, {\"top_n\": 5}),\n",
    "    \"NDCG@10\": (ndcg, {\"top_n\": 10}),\n",
    "}"
   ]
  },
  {
   "cell_type": "code",
   "execution_count": 3,
   "metadata": {},
   "outputs": [],
   "source": [
    "model = MatrixFactorizationBPRModel(dataset.user_count, dataset.item_count, config.dim)\n",
    "\n",
    "optimizer = torch.optim.SGD(\n",
    "    model.parameters(),\n",
    "    lr=config.lr,\n",
    "    momentum=config.momentum,\n",
    "    nesterov=True,\n",
    "    weight_decay=config.weight_decay,\n",
    ")\n",
    "\n",
    "trainer = Trainer(\n",
    "    dataset,\n",
    "    model,\n",
    "    optimizer,\n",
    "    metrics,\n",
    "    epochs=config.epochs,\n",
    "    batch_size=config.batch_size,\n",
    "    device=device,\n",
    ")"
   ]
  },
  {
   "cell_type": "code",
   "execution_count": 4,
   "metadata": {},
   "outputs": [],
   "source": [
    "trainer.train(evaluate=True, verbose=False, progressbar=True)\n",
    "# trainer.test(verbose=False, pbar=False)"
   ]
  },
  {
   "cell_type": "code",
   "execution_count": 5,
   "metadata": {},
   "outputs": [
    {
     "name": "stdout",
     "output_type": "stream",
     "text": [
      "98: {'HR@1': 0.34146341463414637, 'HR@5': 0.7348886532343585, 'HR@10': 0.8727465535524921, 'NDCG@1': 0.34146341463414637, 'NDCG@5': 0.5464361573761861, 'NDCG@10': 0.5913190592456186}\n"
     ]
    }
   ],
   "source": [
    "best_epoch = np.argmax([r[\"NDCG@10\"] for r in trainer.test_log])\n",
    "print(f\"{best_epoch}: {trainer.test_log[best_epoch]}\")"
   ]
  },
  {
   "cell_type": "code",
   "execution_count": 6,
   "metadata": {},
   "outputs": [],
   "source": [
    "torch.save(trainer.model.state_dict(), \"saved_models/mfbpr.pt\")\n",
    "# trainer.model.load_state_dict(torch.load(\"saved_models/mfbpr.pt\"))"
   ]
  }
 ],
 "metadata": {
  "kernelspec": {
   "display_name": "v39",
   "language": "python",
   "name": "python3"
  },
  "language_info": {
   "codemirror_mode": {
    "name": "ipython",
    "version": 3
   },
   "file_extension": ".py",
   "mimetype": "text/x-python",
   "name": "python",
   "nbconvert_exporter": "python",
   "pygments_lexer": "ipython3",
   "version": "3.9.7"
  }
 },
 "nbformat": 4,
 "nbformat_minor": 2
}
