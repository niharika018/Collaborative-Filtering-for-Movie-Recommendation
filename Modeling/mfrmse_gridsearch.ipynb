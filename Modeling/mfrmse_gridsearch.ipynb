{
 "cells": [
  {
   "cell_type": "code",
   "execution_count": 1,
   "metadata": {},
   "outputs": [
    {
     "name": "stdout",
     "output_type": "stream",
     "text": [
      "device='cuda'\n"
     ]
    }
   ],
   "source": [
    "import numpy as np\n",
    "import random\n",
    "import torch\n",
    "from src.dataloaders import Dataset\n",
    "from src.models import MatrixFactorizationRMSEModel\n",
    "from src.trainer import Trainer\n",
    "from src.metrics import hitratio, ndcg\n",
    "from joblib import Parallel, delayed\n",
    "\n",
    "np.random.seed(42)\n",
    "random.seed(42)\n",
    "torch.manual_seed(42)\n",
    "\n",
    "device = \"cuda\" if torch.cuda.is_available() else \"cpu\"\n",
    "# device = 'cpu'\n",
    "print(f\"{device=}\")"
   ]
  },
  {
   "cell_type": "code",
   "execution_count": 2,
   "metadata": {},
   "outputs": [
    {
     "name": "stdout",
     "output_type": "stream",
     "text": [
      "dataset.train_size=198114, dataset.test_size=943\n"
     ]
    }
   ],
   "source": [
    "class config:\n",
    "    data_dir = \"ml-100k\"\n",
    "    neg_count = 20\n",
    "    epochs = 50\n",
    "    batch_size = 2048\n",
    "    dim = 40\n",
    "\n",
    "\n",
    "dataset = Dataset(config.data_dir)\n",
    "dataset.gen_adjacency()\n",
    "dataset.make_train_test()\n",
    "print(f\"{dataset.train_size=}, {dataset.test_size=}\")\n",
    "\n",
    "metrics = {\n",
    "    # \"HR@1\": (hitratio, {\"top_n\": 1}),\n",
    "    # \"HR@5\": (hitratio, {\"top_n\": 5}),\n",
    "    \"HR@10\": (hitratio, {\"top_n\": 10}),\n",
    "    # \"NDCG@1\": (ndcg, {\"top_n\": 1}),\n",
    "    # \"NDCG@5\": (ndcg, {\"top_n\": 5}),\n",
    "    \"NDCG@10\": (ndcg, {\"top_n\": 10}),\n",
    "}"
   ]
  },
  {
   "cell_type": "code",
   "execution_count": 3,
   "metadata": {},
   "outputs": [],
   "source": [
    "# took 5 mins to complete\n",
    "\n",
    "grid_params = {\n",
    "    \"lr\": [0.001, 0.01, 0.1, 1],\n",
    "    \"weight_decay\": [0.0001, 0.001, 0.01, 0.1, 1],\n",
    "}\n",
    "\n",
    "\n",
    "def search(lr, wd):\n",
    "    model = MatrixFactorizationRMSEModel(\n",
    "        dataset.user_count, dataset.item_count, config.dim\n",
    "    )\n",
    "\n",
    "    optimizer = torch.optim.Adam(model.parameters(), lr=lr, weight_decay=wd)\n",
    "\n",
    "    trainer = Trainer(\n",
    "        dataset,\n",
    "        model,\n",
    "        optimizer,\n",
    "        metrics,\n",
    "        epochs=config.epochs,\n",
    "        batch_size=config.batch_size,\n",
    "        device=device,\n",
    "    )\n",
    "\n",
    "    trainer.train(evaluate=True, verbose=False, progressbar=False)\n",
    "    best_ndcg, best_ndcg_epoch = float(\"-inf\"), 0\n",
    "    for i, s in enumerate(trainer.test_log):\n",
    "        if s[\"NDCG@10\"] > best_ndcg:\n",
    "            best_ndcg = s[\"NDCG@10\"]\n",
    "            best_ndcg_epoch = i\n",
    "\n",
    "    return (best_ndcg, best_ndcg_epoch, (lr, wd))\n",
    "\n",
    "\n",
    "output = Parallel(n_jobs=4)(\n",
    "    delayed(search)(lr=lr, wd=wd)\n",
    "    for lr in grid_params[\"lr\"]\n",
    "    for wd in grid_params[\"weight_decay\"]\n",
    ")"
   ]
  },
  {
   "cell_type": "code",
   "execution_count": 5,
   "metadata": {},
   "outputs": [
    {
     "name": "stdout",
     "output_type": "stream",
     "text": [
      "(0.5368545035909735, 40, (0.01, 0.0001))\n"
     ]
    }
   ],
   "source": [
    "sorted_log = sorted(output)\n",
    "sorted_log.reverse()\n",
    "print(sorted_log[0])\n",
    "\n",
    "with open(\"gridsearch_logs/mfrmse.txt\", \"w\") as f:\n",
    "    for r in sorted_log:\n",
    "        f.write(f\"{r}\\n\")"
   ]
  },
  {
   "cell_type": "code",
   "execution_count": 9,
   "metadata": {},
   "outputs": [],
   "source": [
    "# took 18 mins to complete\n",
    "\n",
    "grid_params = {\n",
    "    \"b1\": list(np.arange(0.1, 1, 0.1)),\n",
    "    \"b2\": list(np.arange(0.1, 1, 0.1)),\n",
    "}\n",
    "\n",
    "\n",
    "def search(b1, b2):\n",
    "    model = MatrixFactorizationRMSEModel(\n",
    "        dataset.user_count, dataset.item_count, config.dim\n",
    "    )\n",
    "\n",
    "    optimizer = torch.optim.Adam(\n",
    "        model.parameters(),\n",
    "        lr=sorted_log[0][2][0],\n",
    "        betas=(b1, b2),\n",
    "        weight_decay=sorted_log[0][2][1],\n",
    "    )\n",
    "\n",
    "    trainer = Trainer(\n",
    "        dataset,\n",
    "        model,\n",
    "        optimizer,\n",
    "        metrics,\n",
    "        epochs=config.epochs,\n",
    "        batch_size=config.batch_size,\n",
    "        device=device,\n",
    "    )\n",
    "\n",
    "    trainer.train(evaluate=True, verbose=False, progressbar=False)\n",
    "    best_ndcg, best_ndcg_epoch = float(\"-inf\"), 0\n",
    "    for i, s in enumerate(trainer.test_log):\n",
    "        if s[\"NDCG@10\"] > best_ndcg:\n",
    "            best_ndcg = s[\"NDCG@10\"]\n",
    "            best_ndcg_epoch = i\n",
    "\n",
    "    return (best_ndcg, best_ndcg_epoch, (b1, b2))\n",
    "\n",
    "\n",
    "output = Parallel(n_jobs=4)(\n",
    "    delayed(search)(b1=b1, b2=b2)\n",
    "    for b1 in grid_params[\"b1\"]\n",
    "    for b2 in grid_params[\"b2\"]\n",
    ")"
   ]
  },
  {
   "cell_type": "code",
   "execution_count": 10,
   "metadata": {},
   "outputs": [
    {
     "name": "stdout",
     "output_type": "stream",
     "text": [
      "(0.5364471342127466, 39, (0.9, 0.9))\n"
     ]
    }
   ],
   "source": [
    "sorted_log = sorted(output)\n",
    "sorted_log.reverse()\n",
    "print(sorted_log[0])\n",
    "\n",
    "with open(\"gridsearch_logs/mfrmse.txt\", \"a\") as f:\n",
    "    f.write(\"\\n\")\n",
    "    for r in sorted_log:\n",
    "        f.write(f\"{r}\\n\")"
   ]
  }
 ],
 "metadata": {
  "kernelspec": {
   "display_name": "v39",
   "language": "python",
   "name": "python3"
  },
  "language_info": {
   "codemirror_mode": {
    "name": "ipython",
    "version": 3
   },
   "file_extension": ".py",
   "mimetype": "text/x-python",
   "name": "python",
   "nbconvert_exporter": "python",
   "pygments_lexer": "ipython3",
   "version": "3.9.7"
  }
 },
 "nbformat": 4,
 "nbformat_minor": 2
}
