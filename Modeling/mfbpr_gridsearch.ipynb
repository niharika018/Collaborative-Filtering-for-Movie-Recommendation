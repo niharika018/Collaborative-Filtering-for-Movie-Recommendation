{
 "cells": [
  {
   "cell_type": "code",
   "execution_count": null,
   "metadata": {},
   "outputs": [],
   "source": [
    "import numpy as np\n",
    "import random\n",
    "import torch\n",
    "from src.dataloaders import PairwiseDataset\n",
    "from src.models import MatrixFactorizationBPRModel\n",
    "from src.trainer import Trainer\n",
    "from src.metrics import hitratio, ndcg\n",
    "from joblib import Parallel, delayed\n",
    "\n",
    "np.random.seed(42)\n",
    "random.seed(42)\n",
    "torch.manual_seed(42)\n",
    "\n",
    "device = \"cuda\" if torch.cuda.is_available() else \"cpu\"\n",
    "# device = 'cpu'\n",
    "print(f\"{device=}\")"
   ]
  },
  {
   "cell_type": "code",
   "execution_count": null,
   "metadata": {},
   "outputs": [],
   "source": [
    "class config:\n",
    "    data_dir = \"ml-100k\"\n",
    "    epochs = 50\n",
    "    batch_size = 2048\n",
    "    dim = 40\n",
    "\n",
    "\n",
    "dataset = PairwiseDataset(config.data_dir)\n",
    "dataset.gen_adjacency()\n",
    "dataset.make_train_test()\n",
    "print(f\"{dataset.train_size=}, {dataset.test_size=}\")\n",
    "\n",
    "metrics = {\n",
    "    # \"HR@1\": (hitratio, {\"top_n\": 1}),\n",
    "    # \"HR@5\": (hitratio, {\"top_n\": 5}),\n",
    "    \"HR@10\": (hitratio, {\"top_n\": 10}),\n",
    "    # \"NDCG@1\": (ndcg, {\"top_n\": 1}),\n",
    "    # \"NDCG@5\": (ndcg, {\"top_n\": 5}),\n",
    "    \"NDCG@10\": (ndcg, {\"top_n\": 10}),\n",
    "}"
   ]
  },
  {
   "cell_type": "code",
   "execution_count": null,
   "metadata": {},
   "outputs": [],
   "source": [
    "# took 1 hour 15 mins to complete\n",
    "\n",
    "grid_params = {\n",
    "    \"lr\": [0.001, 0.01, 0.1, 1],\n",
    "    \"momentum\": list(np.arange(0.1, 1.1, 0.1)),\n",
    "    \"weight_decay\": [0.0001, 0.001, 0.01, 0.1, 1],\n",
    "}\n",
    "\n",
    "\n",
    "def search(lr, mom, wd):\n",
    "    model = MatrixFactorizationBPRModel(\n",
    "        dataset.user_count, dataset.item_count, config.dim\n",
    "    )\n",
    "\n",
    "    optimizer = torch.optim.SGD(\n",
    "        model.parameters(), lr=lr, momentum=mom, nesterov=True, weight_decay=wd\n",
    "    )\n",
    "\n",
    "    trainer = Trainer(\n",
    "        dataset,\n",
    "        model,\n",
    "        optimizer,\n",
    "        metrics,\n",
    "        epochs=config.epochs,\n",
    "        batch_size=config.batch_size,\n",
    "        device=device,\n",
    "    )\n",
    "\n",
    "    trainer.train(evaluate=True, verbose=False, progressbar=False)\n",
    "    best_ndcg, best_ndcg_epoch = float(\"-inf\"), 0\n",
    "    for i, s in enumerate(trainer.test_log):\n",
    "        if s[\"NDCG@10\"] > best_ndcg:\n",
    "            best_ndcg = s[\"NDCG@10\"]\n",
    "            best_ndcg_epoch = i\n",
    "\n",
    "    return (best_ndcg, best_ndcg_epoch, (lr, mom, wd))\n",
    "\n",
    "\n",
    "output = Parallel(n_jobs=4)(\n",
    "    delayed(search)(lr, mom, wd)\n",
    "    for lr in grid_params[\"lr\"]\n",
    "    for mom in grid_params[\"momentum\"]\n",
    "    for wd in grid_params[\"weight_decay\"]\n",
    ")"
   ]
  },
  {
   "cell_type": "code",
   "execution_count": null,
   "metadata": {},
   "outputs": [],
   "source": [
    "sorted_log = sorted(output)\n",
    "sorted_log.reverse()\n",
    "\n",
    "with open(\"gridsearch_logs/mfbpr.txt\", \"w\") as f:\n",
    "    for r in sorted_log:\n",
    "        f.write(f\"{r}\\n\")"
   ]
  }
 ],
 "metadata": {
  "kernelspec": {
   "display_name": "v39",
   "language": "python",
   "name": "python3"
  },
  "language_info": {
   "codemirror_mode": {
    "name": "ipython",
    "version": 3
   },
   "file_extension": ".py",
   "mimetype": "text/x-python",
   "name": "python",
   "nbconvert_exporter": "python",
   "pygments_lexer": "ipython3",
   "version": "3.9.7"
  }
 },
 "nbformat": 4,
 "nbformat_minor": 2
}
