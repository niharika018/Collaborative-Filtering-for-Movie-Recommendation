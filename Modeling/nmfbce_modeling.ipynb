{
 "cells": [
  {
   "cell_type": "code",
   "execution_count": 1,
   "metadata": {},
   "outputs": [
    {
     "name": "stdout",
     "output_type": "stream",
     "text": [
      "device='cuda'\n"
     ]
    }
   ],
   "source": [
    "import numpy as np\n",
    "import random\n",
    "import torch\n",
    "from src.dataloaders import Dataset100k\n",
    "from src.models import GMFBCEModel, MLPBCEModel, NeuralMatrixFactorizationBCEModel\n",
    "from src.trainer import Trainer\n",
    "from src.metrics import hitratio, ndcg\n",
    "\n",
    "np.random.seed(42)\n",
    "random.seed(42)\n",
    "torch.manual_seed(42)\n",
    "\n",
    "device = \"cuda\" if torch.cuda.is_available() else \"cpu\"\n",
    "# device = 'cpu'\n",
    "print(f\"{device=}\")"
   ]
  },
  {
   "cell_type": "code",
   "execution_count": 2,
   "metadata": {},
   "outputs": [
    {
     "name": "stdout",
     "output_type": "stream",
     "text": [
      "dataset.train_size=198114, dataset.test_size=943\n"
     ]
    }
   ],
   "source": [
    "class config:\n",
    "    data_dir = \"ml-100k\"\n",
    "    epochs = 2\n",
    "    batch_size = 2048\n",
    "    gmf_embed_size = 16\n",
    "    mlp_embed_size = 32\n",
    "    layers = [32, 16, 8]\n",
    "    lr = 0.001\n",
    "    b1 = 0.7\n",
    "    b2 = 0.5\n",
    "    weight_decay = 0.0001\n",
    "\n",
    "\n",
    "dataset = Dataset100k(config.data_dir)\n",
    "dataset.gen_adjacency()\n",
    "dataset.make_train_test()\n",
    "print(f\"{dataset.train_size=}, {dataset.test_size=}\")\n",
    "\n",
    "metrics = {\n",
    "    \"HR@1\": (hitratio, {\"top_n\": 1}),\n",
    "    \"HR@5\": (hitratio, {\"top_n\": 5}),\n",
    "    \"HR@10\": (hitratio, {\"top_n\": 10}),\n",
    "    \"NDCG@1\": (ndcg, {\"top_n\": 1}),\n",
    "    \"NDCG@5\": (ndcg, {\"top_n\": 5}),\n",
    "    \"NDCG@10\": (ndcg, {\"top_n\": 10}),\n",
    "}"
   ]
  },
  {
   "cell_type": "code",
   "execution_count": 3,
   "metadata": {},
   "outputs": [],
   "source": [
    "model = NeuralMatrixFactorizationBCEModel(\n",
    "    dataset.user_count,\n",
    "    dataset.item_count,\n",
    "    gmf_embed_size=config.gmf_embed_size,\n",
    "    mlp_embed_size=config.mlp_embed_size,\n",
    "    layers=config.layers,\n",
    "    alpha=0.5,\n",
    ")\n",
    "\n",
    "gmf_model = GMFBCEModel(\n",
    "    dataset.user_count, dataset.item_count, embed_size=config.gmf_embed_size\n",
    ")\n",
    "gmf_model.load_state_dict(torch.load(\"saved_models/gmfbce.pt\"))\n",
    "mlp_model = MLPBCEModel(\n",
    "    dataset.user_count,\n",
    "    dataset.item_count,\n",
    "    embed_size=config.mlp_embed_size,\n",
    "    layers=config.layers,\n",
    ")\n",
    "mlp_model.load_state_dict(torch.load(\"saved_models/mlpbce.pt\"))\n",
    "\n",
    "model.load_pretrained_weights(gmf_model, mlp_model)\n",
    "del gmf_model\n",
    "del mlp_model\n",
    "\n",
    "# optimizer = torch.optim.SGD(model.parameters(), lr=config.lr, weight_decay=config.weight_decay)\n",
    "optimizer = torch.optim.Adam(\n",
    "    model.parameters(),\n",
    "    lr=config.lr,\n",
    "    betas=(config.b1, config.b2),\n",
    "    weight_decay=config.weight_decay,\n",
    ")\n",
    "# optimizer = torch.optim.Adam(model.parameters(), lr=config.lr, weight_decay=config.weight_decay)\n",
    "\n",
    "trainer = Trainer(\n",
    "    dataset,\n",
    "    model,\n",
    "    optimizer,\n",
    "    metrics,\n",
    "    epochs=config.epochs,\n",
    "    batch_size=config.batch_size,\n",
    "    device=device,\n",
    ")"
   ]
  },
  {
   "cell_type": "code",
   "execution_count": 4,
   "metadata": {},
   "outputs": [
    {
     "name": "stderr",
     "output_type": "stream",
     "text": [
      "                                                                   \r"
     ]
    },
    {
     "name": "stdout",
     "output_type": "stream",
     "text": [
      "Epoch 0: Avg Loss/Batch 0.309413            \n"
     ]
    },
    {
     "name": "stderr",
     "output_type": "stream",
     "text": [
      "                                                   \r"
     ]
    },
    {
     "name": "stdout",
     "output_type": "stream",
     "text": [
      "HR@1: 0.29056203605514314\n",
      "HR@5: 0.6224814422057264\n",
      "HR@10: 0.7741251325556734\n",
      "NDCG@1: 0.29056203605514314\n",
      "NDCG@5: 0.4645940010893288\n",
      "NDCG@10: 0.5140817324677941\n"
     ]
    },
    {
     "name": "stderr",
     "output_type": "stream",
     "text": [
      "                                                                   \r"
     ]
    },
    {
     "name": "stdout",
     "output_type": "stream",
     "text": [
      "Epoch 1: Avg Loss/Batch 0.307802            \n"
     ]
    },
    {
     "name": "stderr",
     "output_type": "stream",
     "text": [
      "                                                   \r"
     ]
    },
    {
     "name": "stdout",
     "output_type": "stream",
     "text": [
      "HR@1: 0.2979851537645811\n",
      "HR@5: 0.6224814422057264\n",
      "HR@10: 0.7741251325556734\n",
      "NDCG@1: 0.2979851537645811\n",
      "NDCG@5: 0.46769246376738405\n",
      "NDCG@10: 0.5174046509623627\n"
     ]
    }
   ],
   "source": [
    "trainer.train(evaluate=True, verbose=True, progressbar=True)\n",
    "# trainer.test(verbose=False, pbar=False)"
   ]
  },
  {
   "cell_type": "code",
   "execution_count": 5,
   "metadata": {},
   "outputs": [
    {
     "name": "stdout",
     "output_type": "stream",
     "text": [
      "1: {'HR@1': 0.2979851537645811, 'HR@5': 0.6224814422057264, 'HR@10': 0.7741251325556734, 'NDCG@1': 0.2979851537645811, 'NDCG@5': 0.46769246376738405, 'NDCG@10': 0.5174046509623627}\n"
     ]
    }
   ],
   "source": [
    "best_epoch = np.argmax([r[\"NDCG@10\"] for r in trainer.test_log])\n",
    "print(f\"{best_epoch}: {trainer.test_log[best_epoch]}\")"
   ]
  },
  {
   "cell_type": "code",
   "execution_count": 6,
   "metadata": {},
   "outputs": [],
   "source": [
    "torch.save(trainer.model.state_dict(), \"saved_models/nmfbce.pt\")\n",
    "# trainer.model.load_state_dict(torch.load(\"saved_models/nmfbce.pt\"))"
   ]
  }
 ],
 "metadata": {
  "kernelspec": {
   "display_name": "v39",
   "language": "python",
   "name": "python3"
  },
  "language_info": {
   "codemirror_mode": {
    "name": "ipython",
    "version": 3
   },
   "file_extension": ".py",
   "mimetype": "text/x-python",
   "name": "python",
   "nbconvert_exporter": "python",
   "pygments_lexer": "ipython3",
   "version": "3.9.7"
  }
 },
 "nbformat": 4,
 "nbformat_minor": 2
}
