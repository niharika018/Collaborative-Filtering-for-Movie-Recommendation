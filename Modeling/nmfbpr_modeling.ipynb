{
 "cells": [
  {
   "cell_type": "code",
   "execution_count": 1,
   "metadata": {},
   "outputs": [
    {
     "name": "stdout",
     "output_type": "stream",
     "text": [
      "device='cuda'\n"
     ]
    }
   ],
   "source": [
    "import numpy as np\n",
    "import random\n",
    "import torch\n",
    "from src.dataloaders import Dataset100k, Dataset1m\n",
    "from src.models import GMFBCEModel, MLPBCEModel, NeuralMatrixFactorizationBPRModel\n",
    "from src.trainer import Trainer\n",
    "from src.metrics import hitratio, ndcg\n",
    "\n",
    "np.random.seed(42)\n",
    "random.seed(42)\n",
    "torch.manual_seed(42)\n",
    "\n",
    "device = \"cuda\" if torch.cuda.is_available() else \"cpu\"\n",
    "# device = 'cpu'\n",
    "print(f\"{device=}\")"
   ]
  },
  {
   "cell_type": "code",
   "execution_count": 2,
   "metadata": {},
   "outputs": [],
   "source": [
    "class config:\n",
    "    data_dir = \"ml-100k\"\n",
    "    # data_dir = 'ml-1m'\n",
    "    epochs = 10\n",
    "    batch_size = 2048\n",
    "    gmf_embed_size = 16\n",
    "    mlp_embed_size = 32\n",
    "    layers = [32, 16, 8]\n",
    "    lr = 0.001\n",
    "    b1 = 0.7\n",
    "    b2 = 0.5\n",
    "    weight_decay = 0.0001"
   ]
  },
  {
   "cell_type": "code",
   "execution_count": 3,
   "metadata": {},
   "outputs": [
    {
     "name": "stdout",
     "output_type": "stream",
     "text": [
      "dataset.train_size=198114, dataset.test_size=943\n"
     ]
    }
   ],
   "source": [
    "dataset = Dataset100k(config.data_dir)\n",
    "# dataset = Dataset1m(config.data_dir)\n",
    "dataset.gen_adjacency()\n",
    "dataset.make_train_test()\n",
    "print(f\"{dataset.train_size=}, {dataset.test_size=}\")\n",
    "\n",
    "metrics = {\n",
    "    \"HR@1\": (hitratio, {\"top_n\": 1}),\n",
    "    \"HR@5\": (hitratio, {\"top_n\": 5}),\n",
    "    \"HR@10\": (hitratio, {\"top_n\": 10}),\n",
    "    \"NDCG@1\": (ndcg, {\"top_n\": 1}),\n",
    "    \"NDCG@5\": (ndcg, {\"top_n\": 5}),\n",
    "    \"NDCG@10\": (ndcg, {\"top_n\": 10}),\n",
    "}"
   ]
  },
  {
   "cell_type": "code",
   "execution_count": 4,
   "metadata": {},
   "outputs": [],
   "source": [
    "model = NeuralMatrixFactorizationBPRModel(\n",
    "    dataset.user_count,\n",
    "    dataset.item_count,\n",
    "    gmf_embed_size=config.gmf_embed_size,\n",
    "    mlp_embed_size=config.mlp_embed_size,\n",
    "    layers=config.layers,\n",
    "    alpha=0.5,\n",
    ")\n",
    "\n",
    "gmf_model = GMFBCEModel(\n",
    "    dataset.user_count, dataset.item_count, embed_size=config.gmf_embed_size\n",
    ")\n",
    "gmf_model.load_state_dict(torch.load(\"saved_models/gmfbce.pt\"))\n",
    "mlp_model = MLPBCEModel(\n",
    "    dataset.user_count,\n",
    "    dataset.item_count,\n",
    "    embed_size=config.mlp_embed_size,\n",
    "    layers=config.layers,\n",
    ")\n",
    "mlp_model.load_state_dict(torch.load(\"saved_models/mlpbce.pt\"))\n",
    "\n",
    "model.load_pretrained_weights(gmf_model, mlp_model)\n",
    "del gmf_model\n",
    "del mlp_model\n",
    "\n",
    "# optimizer = torch.optim.SGD(model.parameters(), lr=config.lr, momentum=config.momentum, nesterov=True, weight_decay=config.weight_decay)\n",
    "# optimizer = torch.optim.SGD(model.parameters(), lr=config.lr, weight_decay=config.weight_decay)\n",
    "optimizer = torch.optim.Adam(\n",
    "    model.parameters(),\n",
    "    lr=config.lr,\n",
    "    betas=(config.b1, config.b2),\n",
    "    weight_decay=config.weight_decay,\n",
    ")\n",
    "# optimizer = torch.optim.Adam(model.parameters(), lr=config.lr, weight_decay=config.weight_decay)\n",
    "\n",
    "trainer = Trainer(\n",
    "    dataset,\n",
    "    model,\n",
    "    optimizer,\n",
    "    metrics,\n",
    "    epochs=config.epochs,\n",
    "    batch_size=config.batch_size,\n",
    "    device=device,\n",
    ")"
   ]
  },
  {
   "cell_type": "code",
   "execution_count": 5,
   "metadata": {},
   "outputs": [
    {
     "name": "stderr",
     "output_type": "stream",
     "text": [
      "                                                                     \r"
     ]
    },
    {
     "name": "stdout",
     "output_type": "stream",
     "text": [
      "Epoch 0: Avg Loss/Batch 344.946300          \n"
     ]
    },
    {
     "name": "stderr",
     "output_type": "stream",
     "text": [
      "                                                   \r"
     ]
    },
    {
     "name": "stdout",
     "output_type": "stream",
     "text": [
      "HR@1: 0.18451749734888653\n",
      "HR@5: 0.3669141039236479\n",
      "HR@10: 0.4687168610816543\n",
      "NDCG@1: 0.18451749734888653\n",
      "NDCG@5: 0.2795104538869772\n",
      "NDCG@10: 0.3120651023575053\n"
     ]
    },
    {
     "name": "stderr",
     "output_type": "stream",
     "text": [
      "                                                                     \r"
     ]
    },
    {
     "name": "stdout",
     "output_type": "stream",
     "text": [
      "Epoch 1: Avg Loss/Batch 148.867295          \n"
     ]
    },
    {
     "name": "stderr",
     "output_type": "stream",
     "text": [
      "                                                   \r"
     ]
    },
    {
     "name": "stdout",
     "output_type": "stream",
     "text": [
      "HR@1: 0.33510074231177095\n",
      "HR@5: 0.36585365853658536\n",
      "HR@10: 0.41675503711558853\n",
      "NDCG@1: 0.33510074231177095\n",
      "NDCG@5: 0.35002985049783253\n",
      "NDCG@10: 0.3667948034643804\n"
     ]
    },
    {
     "name": "stderr",
     "output_type": "stream",
     "text": [
      "                                                                     \r"
     ]
    },
    {
     "name": "stdout",
     "output_type": "stream",
     "text": [
      "Epoch 2: Avg Loss/Batch 148.864229          \n"
     ]
    },
    {
     "name": "stderr",
     "output_type": "stream",
     "text": [
      "                                                   \r"
     ]
    },
    {
     "name": "stdout",
     "output_type": "stream",
     "text": [
      "HR@1: 0.2863202545068929\n",
      "HR@5: 0.4135737009544008\n",
      "HR@10: 0.45811240721102864\n",
      "NDCG@1: 0.2863202545068929\n",
      "NDCG@5: 0.35361967385737453\n",
      "NDCG@10: 0.36760638913688004\n"
     ]
    },
    {
     "name": "stderr",
     "output_type": "stream",
     "text": [
      "                                                                     \r"
     ]
    },
    {
     "name": "stdout",
     "output_type": "stream",
     "text": [
      "Epoch 3: Avg Loss/Batch 148.864193          \n"
     ]
    },
    {
     "name": "stderr",
     "output_type": "stream",
     "text": [
      "                                                   \r"
     ]
    },
    {
     "name": "stdout",
     "output_type": "stream",
     "text": [
      "HR@1: 0.3064687168610817\n",
      "HR@5: 0.3753976670201485\n",
      "HR@10: 0.37751855779427357\n",
      "NDCG@1: 0.3064687168610817\n",
      "NDCG@5: 0.34802490229339195\n",
      "NDCG@10: 0.3487218664320685\n"
     ]
    },
    {
     "name": "stderr",
     "output_type": "stream",
     "text": [
      "                                                                     \r"
     ]
    },
    {
     "name": "stdout",
     "output_type": "stream",
     "text": [
      "Epoch 4: Avg Loss/Batch 148.864191          \n"
     ]
    },
    {
     "name": "stderr",
     "output_type": "stream",
     "text": [
      "                                                   \r"
     ]
    },
    {
     "name": "stdout",
     "output_type": "stream",
     "text": [
      "HR@1: 0.35949098621421\n",
      "HR@5: 0.3605514316012725\n",
      "HR@10: 0.3605514316012725\n",
      "NDCG@1: 0.35949098621421\n",
      "NDCG@5: 0.3601600527609453\n",
      "NDCG@10: 0.3601600527609453\n"
     ]
    },
    {
     "name": "stderr",
     "output_type": "stream",
     "text": [
      "                                                                     \r"
     ]
    },
    {
     "name": "stdout",
     "output_type": "stream",
     "text": [
      "Epoch 5: Avg Loss/Batch 148.864187          \n"
     ]
    },
    {
     "name": "stderr",
     "output_type": "stream",
     "text": [
      "                                                   \r"
     ]
    },
    {
     "name": "stdout",
     "output_type": "stream",
     "text": [
      "HR@1: 0.0911983032873807\n",
      "HR@5: 0.0911983032873807\n",
      "HR@10: 0.0911983032873807\n",
      "NDCG@1: 0.0911983032873807\n",
      "NDCG@5: 0.0911983032873807\n",
      "NDCG@10: 0.0911983032873807\n"
     ]
    },
    {
     "name": "stderr",
     "output_type": "stream",
     "text": [
      "                                                                     \r"
     ]
    },
    {
     "name": "stdout",
     "output_type": "stream",
     "text": [
      "Epoch 6: Avg Loss/Batch 148.864186          \n"
     ]
    },
    {
     "name": "stderr",
     "output_type": "stream",
     "text": [
      "                                                   \r"
     ]
    },
    {
     "name": "stdout",
     "output_type": "stream",
     "text": [
      "HR@1: 0.3138918345705196\n",
      "HR@5: 0.3138918345705196\n",
      "HR@10: 0.3138918345705196\n",
      "NDCG@1: 0.3138918345705196\n",
      "NDCG@5: 0.3138918345705196\n",
      "NDCG@10: 0.3138918345705196\n"
     ]
    },
    {
     "name": "stderr",
     "output_type": "stream",
     "text": [
      "                                                                     \r"
     ]
    },
    {
     "name": "stdout",
     "output_type": "stream",
     "text": [
      "Epoch 7: Avg Loss/Batch 148.864192          \n"
     ]
    },
    {
     "name": "stderr",
     "output_type": "stream",
     "text": [
      "                                                   \r"
     ]
    },
    {
     "name": "stdout",
     "output_type": "stream",
     "text": [
      "HR@1: 0.026511134676564158\n",
      "HR@5: 0.026511134676564158\n",
      "HR@10: 0.026511134676564158\n",
      "NDCG@1: 0.026511134676564158\n",
      "NDCG@5: 0.026511134676564158\n",
      "NDCG@10: 0.026511134676564158\n"
     ]
    },
    {
     "name": "stderr",
     "output_type": "stream",
     "text": [
      "                                                                     \r"
     ]
    },
    {
     "name": "stdout",
     "output_type": "stream",
     "text": [
      "Epoch 8: Avg Loss/Batch 148.864192          \n"
     ]
    },
    {
     "name": "stderr",
     "output_type": "stream",
     "text": [
      "                                                   \r"
     ]
    },
    {
     "name": "stdout",
     "output_type": "stream",
     "text": [
      "HR@1: 0.32343584305408274\n",
      "HR@5: 0.32343584305408274\n",
      "HR@10: 0.32343584305408274\n",
      "NDCG@1: 0.32343584305408274\n",
      "NDCG@5: 0.32343584305408274\n",
      "NDCG@10: 0.32343584305408274\n"
     ]
    },
    {
     "name": "stderr",
     "output_type": "stream",
     "text": [
      "                                                                     \r"
     ]
    },
    {
     "name": "stdout",
     "output_type": "stream",
     "text": [
      "Epoch 9: Avg Loss/Batch 148.864191          \n"
     ]
    },
    {
     "name": "stderr",
     "output_type": "stream",
     "text": [
      "                                                   "
     ]
    },
    {
     "name": "stdout",
     "output_type": "stream",
     "text": [
      "HR@1: 0.264050901378579\n",
      "HR@5: 0.2651113467656416\n",
      "HR@10: 0.2926829268292683\n",
      "NDCG@1: 0.264050901378579\n",
      "NDCG@5: 0.26446113765348306\n",
      "NDCG@10: 0.27311728095506826\n"
     ]
    },
    {
     "name": "stderr",
     "output_type": "stream",
     "text": [
      "\r"
     ]
    }
   ],
   "source": [
    "trainer.train(evaluate=True, verbose=True, progressbar=True)\n",
    "# trainer.test(verbose=False, pbar=False)"
   ]
  },
  {
   "cell_type": "code",
   "execution_count": 10,
   "metadata": {},
   "outputs": [
    {
     "name": "stdout",
     "output_type": "stream",
     "text": [
      "6: {'HR@1': 0.38494167550371156, 'HR@5': 0.38494167550371156, 'HR@10': 0.38494167550371156, 'NDCG@1': 0.38494167550371156, 'NDCG@5': 0.38494167550371156, 'NDCG@10': 0.38494167550371156}\n"
     ]
    }
   ],
   "source": [
    "best_epoch = np.argmax([r[\"NDCG@10\"] for r in trainer.test_log])\n",
    "print(f\"{best_epoch}: {trainer.test_log[best_epoch]}\")"
   ]
  },
  {
   "cell_type": "code",
   "execution_count": 11,
   "metadata": {},
   "outputs": [],
   "source": [
    "torch.save(trainer.model.state_dict(), \"saved_models/nmfbpr.pt\")\n",
    "# trainer.model.load_state_dict(torch.load(\"saved_models/nmfbpr.pt\"))"
   ]
  }
 ],
 "metadata": {
  "kernelspec": {
   "display_name": "v39",
   "language": "python",
   "name": "python3"
  },
  "language_info": {
   "codemirror_mode": {
    "name": "ipython",
    "version": 3
   },
   "file_extension": ".py",
   "mimetype": "text/x-python",
   "name": "python",
   "nbconvert_exporter": "python",
   "pygments_lexer": "ipython3",
   "version": "3.9.7"
  }
 },
 "nbformat": 4,
 "nbformat_minor": 2
}
